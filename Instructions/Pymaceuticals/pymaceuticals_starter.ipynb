{
 "cells": [
  {
   "cell_type": "markdown",
   "metadata": {},
   "source": [
    "## Observations and Insights"
   ]
  },
  {
   "cell_type": "markdown",
   "metadata": {},
   "source": [
    "1. The number of male mice is more than the female mice by a very neglible amount.\n",
    "   (Percentage of male mice - 50.2%\n",
    "    Percentage of female mice - 49.8%)\n",
    "    \n",
    "2. Capomulin and Ramicane are the two largely used drug regimens in the study.\n",
    "   \n",
    "3. Not all mice were treated for the complete 45 days (timepoint=45).There are mice that have been treated for fewer days/fewer\n",
    "   timepoints. (Example: Mouse ID - f966,x226,etc)\n"
   ]
  },
  {
   "cell_type": "markdown",
   "metadata": {},
   "source": [
    "## Dependencies and starter code"
   ]
  },
  {
   "cell_type": "code",
   "execution_count": 75,
   "metadata": {},
   "outputs": [
    {
     "data": {
      "text/html": [
       "<div>\n",
       "<style scoped>\n",
       "    .dataframe tbody tr th:only-of-type {\n",
       "        vertical-align: middle;\n",
       "    }\n",
       "\n",
       "    .dataframe tbody tr th {\n",
       "        vertical-align: top;\n",
       "    }\n",
       "\n",
       "    .dataframe thead th {\n",
       "        text-align: right;\n",
       "    }\n",
       "</style>\n",
       "<table border=\"1\" class=\"dataframe\">\n",
       "  <thead>\n",
       "    <tr style=\"text-align: right;\">\n",
       "      <th></th>\n",
       "      <th>Mouse ID</th>\n",
       "      <th>Drug Regimen</th>\n",
       "      <th>Sex</th>\n",
       "      <th>Age_months</th>\n",
       "      <th>Weight (g)</th>\n",
       "      <th>Timepoint</th>\n",
       "      <th>Tumor Volume (mm3)</th>\n",
       "      <th>Metastatic Sites</th>\n",
       "    </tr>\n",
       "  </thead>\n",
       "  <tbody>\n",
       "    <tr>\n",
       "      <th>0</th>\n",
       "      <td>k403</td>\n",
       "      <td>Ramicane</td>\n",
       "      <td>Male</td>\n",
       "      <td>21</td>\n",
       "      <td>16</td>\n",
       "      <td>0</td>\n",
       "      <td>45.000000</td>\n",
       "      <td>0</td>\n",
       "    </tr>\n",
       "    <tr>\n",
       "      <th>1</th>\n",
       "      <td>k403</td>\n",
       "      <td>Ramicane</td>\n",
       "      <td>Male</td>\n",
       "      <td>21</td>\n",
       "      <td>16</td>\n",
       "      <td>5</td>\n",
       "      <td>38.825898</td>\n",
       "      <td>0</td>\n",
       "    </tr>\n",
       "    <tr>\n",
       "      <th>2</th>\n",
       "      <td>k403</td>\n",
       "      <td>Ramicane</td>\n",
       "      <td>Male</td>\n",
       "      <td>21</td>\n",
       "      <td>16</td>\n",
       "      <td>10</td>\n",
       "      <td>35.014271</td>\n",
       "      <td>1</td>\n",
       "    </tr>\n",
       "    <tr>\n",
       "      <th>3</th>\n",
       "      <td>k403</td>\n",
       "      <td>Ramicane</td>\n",
       "      <td>Male</td>\n",
       "      <td>21</td>\n",
       "      <td>16</td>\n",
       "      <td>15</td>\n",
       "      <td>34.223992</td>\n",
       "      <td>1</td>\n",
       "    </tr>\n",
       "    <tr>\n",
       "      <th>4</th>\n",
       "      <td>k403</td>\n",
       "      <td>Ramicane</td>\n",
       "      <td>Male</td>\n",
       "      <td>21</td>\n",
       "      <td>16</td>\n",
       "      <td>20</td>\n",
       "      <td>32.997729</td>\n",
       "      <td>1</td>\n",
       "    </tr>\n",
       "  </tbody>\n",
       "</table>\n",
       "</div>"
      ],
      "text/plain": [
       "  Mouse ID Drug Regimen   Sex  Age_months  Weight (g)  Timepoint  \\\n",
       "0     k403     Ramicane  Male          21          16          0   \n",
       "1     k403     Ramicane  Male          21          16          5   \n",
       "2     k403     Ramicane  Male          21          16         10   \n",
       "3     k403     Ramicane  Male          21          16         15   \n",
       "4     k403     Ramicane  Male          21          16         20   \n",
       "\n",
       "   Tumor Volume (mm3)  Metastatic Sites  \n",
       "0           45.000000                 0  \n",
       "1           38.825898                 0  \n",
       "2           35.014271                 1  \n",
       "3           34.223992                 1  \n",
       "4           32.997729                 1  "
      ]
     },
     "execution_count": 75,
     "metadata": {},
     "output_type": "execute_result"
    }
   ],
   "source": [
    "%matplotlib inline\n",
    "\n",
    "# Dependencies and Setup\n",
    "import matplotlib.pyplot as plt\n",
    "import pandas as pd\n",
    "import scipy.stats as st\n",
    "from scipy.stats import linregress \n",
    "import numpy as np\n",
    "import random\n",
    "\n",
    "# Study data files\n",
    "mouse_metadata = \"data/Mouse_metadata.csv\"\n",
    "study_results = \"data/Study_results.csv\"\n",
    "\n",
    "# Read the mouse data and the study results\n",
    "mouse_metadata = pd.read_csv(mouse_metadata)\n",
    "study_results = pd.read_csv(study_results)\n",
    "\n",
    "# Combine the data into a single dataset\n",
    "mouse_metadata.head()\n",
    "study_results.head()\n",
    "\n",
    "merged_df = pd.merge(mouse_metadata,study_results,on='Mouse ID',how='outer')\n",
    "merged_df.head()"
   ]
  },
  {
   "cell_type": "markdown",
   "metadata": {},
   "source": [
    "## Summary statistics"
   ]
  },
  {
   "cell_type": "code",
   "execution_count": 76,
   "metadata": {},
   "outputs": [
    {
     "data": {
      "text/html": [
       "<div>\n",
       "<style scoped>\n",
       "    .dataframe tbody tr th:only-of-type {\n",
       "        vertical-align: middle;\n",
       "    }\n",
       "\n",
       "    .dataframe tbody tr th {\n",
       "        vertical-align: top;\n",
       "    }\n",
       "\n",
       "    .dataframe thead th {\n",
       "        text-align: right;\n",
       "    }\n",
       "</style>\n",
       "<table border=\"1\" class=\"dataframe\">\n",
       "  <thead>\n",
       "    <tr style=\"text-align: right;\">\n",
       "      <th></th>\n",
       "      <th>Mean TV</th>\n",
       "      <th>Median TV</th>\n",
       "      <th>VAR TV</th>\n",
       "      <th>STD TV</th>\n",
       "      <th>SEM TV</th>\n",
       "    </tr>\n",
       "    <tr>\n",
       "      <th>Drug Regimen</th>\n",
       "      <th></th>\n",
       "      <th></th>\n",
       "      <th></th>\n",
       "      <th></th>\n",
       "      <th></th>\n",
       "    </tr>\n",
       "  </thead>\n",
       "  <tbody>\n",
       "    <tr>\n",
       "      <th>Capomulin</th>\n",
       "      <td>40.675741</td>\n",
       "      <td>41.557809</td>\n",
       "      <td>24.947764</td>\n",
       "      <td>4.994774</td>\n",
       "      <td>0.329346</td>\n",
       "    </tr>\n",
       "    <tr>\n",
       "      <th>Ceftamin</th>\n",
       "      <td>52.591172</td>\n",
       "      <td>51.776157</td>\n",
       "      <td>39.290177</td>\n",
       "      <td>6.268188</td>\n",
       "      <td>0.469821</td>\n",
       "    </tr>\n",
       "    <tr>\n",
       "      <th>Infubinol</th>\n",
       "      <td>52.884795</td>\n",
       "      <td>51.820584</td>\n",
       "      <td>43.128684</td>\n",
       "      <td>6.567243</td>\n",
       "      <td>0.492236</td>\n",
       "    </tr>\n",
       "    <tr>\n",
       "      <th>Ketapril</th>\n",
       "      <td>55.235638</td>\n",
       "      <td>53.698743</td>\n",
       "      <td>68.553577</td>\n",
       "      <td>8.279709</td>\n",
       "      <td>0.603860</td>\n",
       "    </tr>\n",
       "    <tr>\n",
       "      <th>Naftisol</th>\n",
       "      <td>54.331565</td>\n",
       "      <td>52.509285</td>\n",
       "      <td>66.173479</td>\n",
       "      <td>8.134708</td>\n",
       "      <td>0.596466</td>\n",
       "    </tr>\n",
       "    <tr>\n",
       "      <th>Placebo</th>\n",
       "      <td>54.033581</td>\n",
       "      <td>52.288934</td>\n",
       "      <td>61.168083</td>\n",
       "      <td>7.821003</td>\n",
       "      <td>0.581331</td>\n",
       "    </tr>\n",
       "    <tr>\n",
       "      <th>Propriva</th>\n",
       "      <td>52.322552</td>\n",
       "      <td>50.854632</td>\n",
       "      <td>42.351070</td>\n",
       "      <td>6.507770</td>\n",
       "      <td>0.512884</td>\n",
       "    </tr>\n",
       "    <tr>\n",
       "      <th>Ramicane</th>\n",
       "      <td>40.216745</td>\n",
       "      <td>40.673236</td>\n",
       "      <td>23.486704</td>\n",
       "      <td>4.846308</td>\n",
       "      <td>0.320955</td>\n",
       "    </tr>\n",
       "    <tr>\n",
       "      <th>Stelasyn</th>\n",
       "      <td>54.233149</td>\n",
       "      <td>52.431737</td>\n",
       "      <td>59.450562</td>\n",
       "      <td>7.710419</td>\n",
       "      <td>0.573111</td>\n",
       "    </tr>\n",
       "    <tr>\n",
       "      <th>Zoniferol</th>\n",
       "      <td>53.236507</td>\n",
       "      <td>51.818479</td>\n",
       "      <td>48.533355</td>\n",
       "      <td>6.966589</td>\n",
       "      <td>0.516398</td>\n",
       "    </tr>\n",
       "  </tbody>\n",
       "</table>\n",
       "</div>"
      ],
      "text/plain": [
       "                Mean TV  Median TV     VAR TV    STD TV    SEM TV\n",
       "Drug Regimen                                                     \n",
       "Capomulin     40.675741  41.557809  24.947764  4.994774  0.329346\n",
       "Ceftamin      52.591172  51.776157  39.290177  6.268188  0.469821\n",
       "Infubinol     52.884795  51.820584  43.128684  6.567243  0.492236\n",
       "Ketapril      55.235638  53.698743  68.553577  8.279709  0.603860\n",
       "Naftisol      54.331565  52.509285  66.173479  8.134708  0.596466\n",
       "Placebo       54.033581  52.288934  61.168083  7.821003  0.581331\n",
       "Propriva      52.322552  50.854632  42.351070  6.507770  0.512884\n",
       "Ramicane      40.216745  40.673236  23.486704  4.846308  0.320955\n",
       "Stelasyn      54.233149  52.431737  59.450562  7.710419  0.573111\n",
       "Zoniferol     53.236507  51.818479  48.533355  6.966589  0.516398"
      ]
     },
     "execution_count": 76,
     "metadata": {},
     "output_type": "execute_result"
    }
   ],
   "source": [
    "# Generate a summary statistics table of mean, median, variance, standard deviation, and SEM of the tumor volume for each regimen\n",
    "\n",
    "merged_group_df = merged_df.groupby(['Drug Regimen']).agg({'Tumor Volume (mm3)' : ['mean','median','var','std','sem'] })\n",
    "                                                                                                                                                                                                                                                                                                   \n",
    "merged_group_df.columns = ['Mean TV','Median TV','VAR TV','STD TV','SEM TV']\n",
    "\n",
    "merged_group_df"
   ]
  },
  {
   "cell_type": "markdown",
   "metadata": {},
   "source": [
    "## Bar plots"
   ]
  },
  {
   "cell_type": "code",
   "execution_count": 19,
   "metadata": {},
   "outputs": [],
   "source": [
    "# Generate a bar plot showing number of data points for each treatment regimen using pandas"
   ]
  },
  {
   "cell_type": "code",
   "execution_count": 77,
   "metadata": {},
   "outputs": [
    {
     "data": {
      "image/png": "[encoded data removed]",
      "text/plain": [
       "<Figure size 432x288 with 1 Axes>"
      ]
     },
     "metadata": {
      "needs_background": "light"
     },
     "output_type": "display_data"
    }
   ],
   "source": [
    "merged_df_new = merged_df.iloc[:,[0,1]]\n",
    "\n",
    "merged_df_new.head()\n",
    "\n",
    "new_merge_df = merged_df_new.groupby(['Drug Regimen']).count()\n",
    "\n",
    "new_merge_df.plot(kind='bar',legend=False)\n",
    "\n",
    "plt.xlabel(\"Drug Regimen\")\n",
    "plt.ylabel(\"Number of Data Points\")\n",
    "plt.title(\"Drug Regimen Vs Number of Data Points\")\n",
    "plt.xlim(-0.75,len(x_axis)-0.25)\n",
    "plt.ylim(0,max(merged_df_newpy['Mouse ID'])+10)\n",
    "plt.show()"
   ]
  },
  {
   "cell_type": "code",
   "execution_count": 21,
   "metadata": {},
   "outputs": [],
   "source": [
    "# Generate a bar plot showing number of data points for each treatment regimen using pyplot"
   ]
  },
  {
   "cell_type": "code",
   "execution_count": 78,
   "metadata": {},
   "outputs": [
    {
     "data": {
      "image/png": "[encoded data removed]",
      "text/plain": [
       "<Figure size 432x288 with 1 Axes>"
      ]
     },
     "metadata": {
      "needs_background": "light"
     },
     "output_type": "display_data"
    }
   ],
   "source": [
    "##CORRECT\n",
    "\n",
    "merged_df_newpy = merged_df.groupby(['Drug Regimen']).count()\n",
    "\n",
    "merged_df_newpy\n",
    "y= len(merged_df_newpy)\n",
    "\n",
    "x_axis = np.arange(y)\n",
    "\n",
    "y_axis = merged_df_newpy['Mouse ID']\n",
    "\n",
    "drug = merged_df_newpy.index\n",
    "\n",
    "\n",
    "plt.bar(x_axis,y_axis,color='b',alpha=0.5, align='center')\n",
    "\n",
    "tick_locations = [value for value in x_axis]\n",
    "plt.xticks(tick_locations, drug, rotation=\"vertical\")\n",
    "\n",
    "plt.xlabel(\"Drug Regimen\")\n",
    "plt.ylabel(\"Number of Data Points\")\n",
    "plt.title(\"Drug Regimen Vs Number of Data Points\")\n",
    "\n",
    "plt.xlim(-0.75,len(x_axis)-0.25)\n",
    "plt.ylim(0,max(merged_df_newpy['Mouse ID'])+10)\n",
    "\n",
    "plt.tight_layout()\n",
    "\n",
    "plt.show()\n"
   ]
  },
  {
   "cell_type": "markdown",
   "metadata": {},
   "source": [
    "## Pie plots"
   ]
  },
  {
   "cell_type": "code",
   "execution_count": 79,
   "metadata": {},
   "outputs": [
    {
     "data": {
      "image/png": "[encoded data removed]",
      "text/plain": [
       "<Figure size 432x288 with 1 Axes>"
      ]
     },
     "metadata": {},
     "output_type": "display_data"
    }
   ],
   "source": [
    "# Generate a pie plot showing the distribution of female versus male mice using pandas\n",
    "\n",
    "uniq_df = merged_df.drop_duplicates(subset=['Mouse ID','Sex'], keep='first')\n",
    "male_df = len(uniq_df.loc[uniq_df['Sex']=='Male',:])\n",
    "female_df = len(uniq_df.loc[uniq_df['Sex']=='Female',:])\n",
    "\n",
    "sum_df ={'Gender' : ['Male','Female'],\n",
    "          'Total' : [male_df,female_df]\n",
    "        }\n",
    "\n",
    "sum_df = pd.DataFrame(sum_df)\n",
    "sum_df.set_index(\"Gender\")\n",
    "\n",
    "ax= sum_df.plot(kind='pie',y='Total', autopct=\"%.1f%%\", labels=sum_df['Gender'])\n",
    "ax.set_ylabel('Sex')\n",
    "ax.legend(loc='upper right')\n",
    "plt.show()\n"
   ]
  },
  {
   "cell_type": "code",
   "execution_count": 80,
   "metadata": {},
   "outputs": [
    {
     "data": {
      "image/png": "[encoded data removed]",
      "text/plain": [
       "<Figure size 432x288 with 1 Axes>"
      ]
     },
     "metadata": {},
     "output_type": "display_data"
    }
   ],
   "source": [
    "# Generate a pie plot showing the distribution of female versus male mice using pyplot\n",
    "\n",
    "size = sum_df['Total']\n",
    "label = sum_df['Gender']\n",
    "plt.pie(size,labels=label,autopct=\"%.1f%%\")\n",
    "plt.axis(\"equal\")\n",
    "plt.ylabel('Sex')\n",
    "plt.legend(loc='best')\n",
    "plt.show()"
   ]
  },
  {
   "cell_type": "markdown",
   "metadata": {},
   "source": [
    "## Quartiles, outliers and boxplots"
   ]
  },
  {
   "cell_type": "code",
   "execution_count": 7,
   "metadata": {},
   "outputs": [],
   "source": [
    "# Calculate the final tumor volume of each mouse across four of the most promising treatment regimens. \n"
   ]
  },
  {
   "cell_type": "code",
   "execution_count": 81,
   "metadata": {},
   "outputs": [
    {
     "data": {
      "text/html": [
       "<div>\n",
       "<style scoped>\n",
       "    .dataframe tbody tr th:only-of-type {\n",
       "        vertical-align: middle;\n",
       "    }\n",
       "\n",
       "    .dataframe tbody tr th {\n",
       "        vertical-align: top;\n",
       "    }\n",
       "\n",
       "    .dataframe thead th {\n",
       "        text-align: right;\n",
       "    }\n",
       "</style>\n",
       "<table border=\"1\" class=\"dataframe\">\n",
       "  <thead>\n",
       "    <tr style=\"text-align: right;\">\n",
       "      <th></th>\n",
       "      <th>Mouse ID</th>\n",
       "      <th>Drug Regimen</th>\n",
       "      <th>Timepoint</th>\n",
       "      <th>Tumor Volume (mm3)</th>\n",
       "    </tr>\n",
       "  </thead>\n",
       "  <tbody>\n",
       "    <tr>\n",
       "      <th>0</th>\n",
       "      <td>s185</td>\n",
       "      <td>Capomulin</td>\n",
       "      <td>45</td>\n",
       "      <td>23.343598</td>\n",
       "    </tr>\n",
       "    <tr>\n",
       "      <th>1</th>\n",
       "      <td>x401</td>\n",
       "      <td>Capomulin</td>\n",
       "      <td>45</td>\n",
       "      <td>28.484033</td>\n",
       "    </tr>\n",
       "    <tr>\n",
       "      <th>2</th>\n",
       "      <td>m601</td>\n",
       "      <td>Capomulin</td>\n",
       "      <td>45</td>\n",
       "      <td>28.430964</td>\n",
       "    </tr>\n",
       "    <tr>\n",
       "      <th>3</th>\n",
       "      <td>f966</td>\n",
       "      <td>Capomulin</td>\n",
       "      <td>20</td>\n",
       "      <td>30.485985</td>\n",
       "    </tr>\n",
       "    <tr>\n",
       "      <th>4</th>\n",
       "      <td>u364</td>\n",
       "      <td>Capomulin</td>\n",
       "      <td>45</td>\n",
       "      <td>31.023923</td>\n",
       "    </tr>\n",
       "    <tr>\n",
       "      <th>...</th>\n",
       "      <td>...</td>\n",
       "      <td>...</td>\n",
       "      <td>...</td>\n",
       "      <td>...</td>\n",
       "    </tr>\n",
       "    <tr>\n",
       "      <th>95</th>\n",
       "      <td>x226</td>\n",
       "      <td>Ceftamin</td>\n",
       "      <td>0</td>\n",
       "      <td>45.000000</td>\n",
       "    </tr>\n",
       "    <tr>\n",
       "      <th>96</th>\n",
       "      <td>x581</td>\n",
       "      <td>Ceftamin</td>\n",
       "      <td>45</td>\n",
       "      <td>64.634949</td>\n",
       "    </tr>\n",
       "    <tr>\n",
       "      <th>97</th>\n",
       "      <td>x822</td>\n",
       "      <td>Ceftamin</td>\n",
       "      <td>45</td>\n",
       "      <td>61.386660</td>\n",
       "    </tr>\n",
       "    <tr>\n",
       "      <th>98</th>\n",
       "      <td>y769</td>\n",
       "      <td>Ceftamin</td>\n",
       "      <td>45</td>\n",
       "      <td>68.594745</td>\n",
       "    </tr>\n",
       "    <tr>\n",
       "      <th>99</th>\n",
       "      <td>y865</td>\n",
       "      <td>Ceftamin</td>\n",
       "      <td>45</td>\n",
       "      <td>64.729837</td>\n",
       "    </tr>\n",
       "  </tbody>\n",
       "</table>\n",
       "<p>100 rows × 4 columns</p>\n",
       "</div>"
      ],
      "text/plain": [
       "   Mouse ID Drug Regimen  Timepoint  Tumor Volume (mm3)\n",
       "0      s185    Capomulin         45           23.343598\n",
       "1      x401    Capomulin         45           28.484033\n",
       "2      m601    Capomulin         45           28.430964\n",
       "3      f966    Capomulin         20           30.485985\n",
       "4      u364    Capomulin         45           31.023923\n",
       "..      ...          ...        ...                 ...\n",
       "95     x226     Ceftamin          0           45.000000\n",
       "96     x581     Ceftamin         45           64.634949\n",
       "97     x822     Ceftamin         45           61.386660\n",
       "98     y769     Ceftamin         45           68.594745\n",
       "99     y865     Ceftamin         45           64.729837\n",
       "\n",
       "[100 rows x 4 columns]"
      ]
     },
     "execution_count": 81,
     "metadata": {},
     "output_type": "execute_result"
    }
   ],
   "source": [
    "audrug_df=merged_df.drop_duplicates(subset = ['Drug Regimen','Mouse ID'],keep ='last')\n",
    "\n",
    "capdrug_df = audrug_df.loc[(audrug_df['Drug Regimen']== 'Capomulin'),['Mouse ID','Drug Regimen','Timepoint','Tumor Volume (mm3)']]\n",
    "\n",
    "ramdrug_df = audrug_df.loc[(audrug_df['Drug Regimen']== 'Ramicane'),['Mouse ID','Drug Regimen','Timepoint','Tumor Volume (mm3)']]\n",
    "\n",
    "infdrug_df = audrug_df.loc[(audrug_df['Drug Regimen']== 'Infubinol'),['Mouse ID','Drug Regimen','Timepoint','Tumor Volume (mm3)']]\n",
    "\n",
    "cefdrug_df = audrug_df.loc[(audrug_df['Drug Regimen']== 'Ceftamin'),['Mouse ID','Drug Regimen','Timepoint','Tumor Volume (mm3)']]\n",
    "\n",
    "df_all =pd.DataFrame()\n",
    "\n",
    "df_all.append([capdrug_df,ramdrug_df,infdrug_df,cefdrug_df], ignore_index=True)\n"
   ]
  },
  {
   "cell_type": "code",
   "execution_count": 54,
   "metadata": {},
   "outputs": [],
   "source": [
    "#Calculate the IQR and quantitatively determine if there are any potential outliers. "
   ]
  },
  {
   "cell_type": "code",
   "execution_count": 82,
   "metadata": {},
   "outputs": [
    {
     "data": {
      "text/html": [
       "<div>\n",
       "<style scoped>\n",
       "    .dataframe tbody tr th:only-of-type {\n",
       "        vertical-align: middle;\n",
       "    }\n",
       "\n",
       "    .dataframe tbody tr th {\n",
       "        vertical-align: top;\n",
       "    }\n",
       "\n",
       "    .dataframe thead th {\n",
       "        text-align: right;\n",
       "    }\n",
       "</style>\n",
       "<table border=\"1\" class=\"dataframe\">\n",
       "  <thead>\n",
       "    <tr style=\"text-align: right;\">\n",
       "      <th></th>\n",
       "      <th>Mouse ID</th>\n",
       "      <th>Drug Regimen</th>\n",
       "      <th>Timepoint</th>\n",
       "      <th>Tumor Volume (mm3)</th>\n",
       "    </tr>\n",
       "  </thead>\n",
       "  <tbody>\n",
       "    <tr>\n",
       "      <th>0</th>\n",
       "      <td>c326</td>\n",
       "      <td>Infubinol</td>\n",
       "      <td>5</td>\n",
       "      <td>36.321346</td>\n",
       "    </tr>\n",
       "  </tbody>\n",
       "</table>\n",
       "</div>"
      ],
      "text/plain": [
       "  Mouse ID Drug Regimen  Timepoint  Tumor Volume (mm3)\n",
       "0     c326    Infubinol          5           36.321346"
      ]
     },
     "execution_count": 82,
     "metadata": {},
     "output_type": "execute_result"
    }
   ],
   "source": [
    "quartiles_cap=capdrug_df['Tumor Volume (mm3)'].quantile([.25,.5,.75])\n",
    "lowerq_cap = quartiles_cap[0.25]\n",
    "upperq_cap = quartiles_cap[0.75]\n",
    "iqr_cap = upperq_cap-lowerq_cap\n",
    "upperb_cap = upperq_cap + (1.5 * iqr_cap)\n",
    "lowerb_cap = lowerq_cap - (1.5 * iqr_cap)\n",
    "\n",
    "pot_out_cap = capdrug_df.loc[(capdrug_df['Tumor Volume (mm3)'] < lowerb_cap) | (capdrug_df['Tumor Volume (mm3)'] > upperb_cap)]                         \n",
    "pot_out_cap\n",
    "\n",
    "quartiles_ram=ramdrug_df['Tumor Volume (mm3)'].quantile([.25,.5,.75])\n",
    "lowerq_ram = quartiles_cap[0.25]\n",
    "upperq_ram = quartiles_cap[0.75]\n",
    "iqr_ram = upperq_ram-lowerq_ram\n",
    "upperb_ram = upperq_ram + (1.5 * iqr_ram)\n",
    "lowerb_ram = lowerq_ram - (1.5 * iqr_ram)\n",
    "\n",
    "pot_out_ram = ramdrug_df.loc[(ramdrug_df['Tumor Volume (mm3)'] < lowerb_ram) | (ramdrug_df['Tumor Volume (mm3)'] > upperb_ram)]                         \n",
    "pot_out_ram\n",
    "\n",
    "\n",
    "quartiles_inf=infdrug_df['Tumor Volume (mm3)'].quantile([.25,.5,.75])\n",
    "lowerq_inf = quartiles_inf[0.25]\n",
    "upperq_inf = quartiles_inf[0.75]\n",
    "iqr_inf = upperq_inf-lowerq_inf\n",
    "upperb_inf = upperq_inf + (1.5 * iqr_inf)\n",
    "lowerb_inf = lowerq_inf - (1.5 * iqr_inf)\n",
    "\n",
    "pot_out_inf = infdrug_df.loc[(infdrug_df['Tumor Volume (mm3)'] < lowerb_inf) | (infdrug_df['Tumor Volume (mm3)'] > upperb_inf)]                         \n",
    "pot_out_inf\n",
    "\n",
    "quartiles_cef=cefdrug_df['Tumor Volume (mm3)'].quantile([.25,.5,.75])\n",
    "lowerq_cef = quartiles_cef[0.25]\n",
    "upperq_cef = quartiles_cef[0.75]\n",
    "iqr_cef = upperq_cef-lowerq_cef\n",
    "upperb_cef = upperq_cef + (1.5 * iqr_cef)\n",
    "lowerb_cef = lowerq_cef - (1.5 * iqr_cef)\n",
    "\n",
    "pot_out_cef = cefdrug_df.loc[(cefdrug_df['Tumor Volume (mm3)'] < lowerb_cef) | (cefdrug_df['Tumor Volume (mm3)'] > upperb_cef)]                         \n",
    "pot_out_cef\n",
    " \n",
    "new_df = pd.DataFrame()\n",
    "\n",
    "new_df.append([pot_out_cap,pot_out_ram,pot_out_inf,pot_out_cef], ignore_index=True)\n",
    "\n",
    "\n"
   ]
  },
  {
   "cell_type": "code",
   "execution_count": 38,
   "metadata": {},
   "outputs": [],
   "source": [
    "# Generate a box plot of the final tumor volume of each mouse across four regimens of interest"
   ]
  },
  {
   "cell_type": "code",
   "execution_count": 83,
   "metadata": {},
   "outputs": [
    {
     "data": {
      "image/png": "[encoded data removed]",
      "text/plain": [
       "<Figure size 432x288 with 1 Axes>"
      ]
     },
     "metadata": {
      "needs_background": "light"
     },
     "output_type": "display_data"
    }
   ],
   "source": [
    "all_df = [capdrug_df['Tumor Volume (mm3)'],ramdrug_df['Tumor Volume (mm3)'],infdrug_df['Tumor Volume (mm3)'],cefdrug_df['Tumor Volume (mm3)'] ]\n",
    "all_df\n",
    "red_circle = dict(markerfacecolor='r', marker='o')\n",
    "\n",
    "fig, ax = plt.subplots()\n",
    "ax.boxplot(all_df,flierprops=red_circle)\n",
    "ax.set_xticklabels(('Capomulin','Ramicane','Infubinol','Ceftamin'))\n",
    "plt.show()"
   ]
  },
  {
   "cell_type": "markdown",
   "metadata": {},
   "source": [
    "## Line and scatter plots"
   ]
  },
  {
   "cell_type": "code",
   "execution_count": 84,
   "metadata": {},
   "outputs": [
    {
     "name": "stdout",
     "output_type": "stream",
     "text": [
      "t565\n"
     ]
    },
    {
     "data": {
      "image/png": "[encoded data removed]",
      "text/plain": [
       "<Figure size 432x288 with 1 Axes>"
      ]
     },
     "metadata": {
      "needs_background": "light"
     },
     "output_type": "display_data"
    }
   ],
   "source": [
    "# Generate a line plot of time point versus tumor volume for a mouse treated with Capomulin\n",
    "capdf = merged_df.loc[(merged_df['Drug Regimen'] == 'Capomulin'),('Mouse ID','Drug Regimen','Timepoint','Weight (g)','Tumor Volume (mm3)')]\n",
    "\n",
    "mouseid = np.random.choice(capdf['Mouse ID']) \n",
    "\n",
    "print(mouseid)\n",
    "\n",
    "randf = capdf.loc[(capdf['Mouse ID'] == mouseid),('Drug Regimen','Mouse ID','Timepoint','Tumor Volume (mm3)')]\n",
    "\n",
    "randf\n",
    "\n",
    "x_axis = randf['Timepoint']\n",
    "y_axis = randf['Tumor Volume (mm3)']\n",
    "plt.plot(x_axis,y_axis)\n",
    "\n",
    "plt.xlabel(\"Time point\")\n",
    "plt.ylabel(\"Tumor Volume of Mouse ID \" +str(mouseid))\n",
    "plt.title(\"Time point Vs Tumor volume of Mouse ID \" +str(mouseid))\n",
    "\n",
    "plt.xlim(-0.75,max(randf['Timepoint'])+10)\n",
    "plt.ylim(0,max(randf['Tumor Volume (mm3)'])+10)\n",
    "\n",
    "\n",
    "plt.show()\n",
    "\n"
   ]
  },
  {
   "cell_type": "code",
   "execution_count": 85,
   "metadata": {},
   "outputs": [
    {
     "data": {
      "image/png": "[encoded data removed]",
      "text/plain": [
       "<Figure size 432x288 with 1 Axes>"
      ]
     },
     "metadata": {
      "needs_background": "light"
     },
     "output_type": "display_data"
    },
    {
     "data": {
      "text/html": [
       "<div>\n",
       "<style scoped>\n",
       "    .dataframe tbody tr th:only-of-type {\n",
       "        vertical-align: middle;\n",
       "    }\n",
       "\n",
       "    .dataframe tbody tr th {\n",
       "        vertical-align: top;\n",
       "    }\n",
       "\n",
       "    .dataframe thead th {\n",
       "        text-align: right;\n",
       "    }\n",
       "</style>\n",
       "<table border=\"1\" class=\"dataframe\">\n",
       "  <thead>\n",
       "    <tr style=\"text-align: right;\">\n",
       "      <th></th>\n",
       "      <th>Avg Tumor Volume (mm3)</th>\n",
       "      <th>Weight (g)</th>\n",
       "    </tr>\n",
       "    <tr>\n",
       "      <th>Mouse ID</th>\n",
       "      <th></th>\n",
       "      <th></th>\n",
       "    </tr>\n",
       "  </thead>\n",
       "  <tbody>\n",
       "    <tr>\n",
       "      <th>b128</th>\n",
       "      <td>41.963636</td>\n",
       "      <td>22</td>\n",
       "    </tr>\n",
       "    <tr>\n",
       "      <th>b742</th>\n",
       "      <td>40.083699</td>\n",
       "      <td>21</td>\n",
       "    </tr>\n",
       "    <tr>\n",
       "      <th>f966</th>\n",
       "      <td>36.505973</td>\n",
       "      <td>17</td>\n",
       "    </tr>\n",
       "    <tr>\n",
       "      <th>g288</th>\n",
       "      <td>41.990097</td>\n",
       "      <td>19</td>\n",
       "    </tr>\n",
       "    <tr>\n",
       "      <th>g316</th>\n",
       "      <td>44.613344</td>\n",
       "      <td>22</td>\n",
       "    </tr>\n",
       "    <tr>\n",
       "      <th>i557</th>\n",
       "      <td>44.805810</td>\n",
       "      <td>24</td>\n",
       "    </tr>\n",
       "    <tr>\n",
       "      <th>i738</th>\n",
       "      <td>39.141053</td>\n",
       "      <td>20</td>\n",
       "    </tr>\n",
       "    <tr>\n",
       "      <th>j119</th>\n",
       "      <td>44.465236</td>\n",
       "      <td>23</td>\n",
       "    </tr>\n",
       "    <tr>\n",
       "      <th>j246</th>\n",
       "      <td>43.216925</td>\n",
       "      <td>21</td>\n",
       "    </tr>\n",
       "    <tr>\n",
       "      <th>l509</th>\n",
       "      <td>44.434474</td>\n",
       "      <td>21</td>\n",
       "    </tr>\n",
       "    <tr>\n",
       "      <th>l897</th>\n",
       "      <td>42.507261</td>\n",
       "      <td>19</td>\n",
       "    </tr>\n",
       "    <tr>\n",
       "      <th>m601</th>\n",
       "      <td>34.847470</td>\n",
       "      <td>17</td>\n",
       "    </tr>\n",
       "    <tr>\n",
       "      <th>m957</th>\n",
       "      <td>39.049816</td>\n",
       "      <td>19</td>\n",
       "    </tr>\n",
       "    <tr>\n",
       "      <th>r157</th>\n",
       "      <td>45.798970</td>\n",
       "      <td>25</td>\n",
       "    </tr>\n",
       "    <tr>\n",
       "      <th>r554</th>\n",
       "      <td>36.509212</td>\n",
       "      <td>17</td>\n",
       "    </tr>\n",
       "    <tr>\n",
       "      <th>r944</th>\n",
       "      <td>43.367364</td>\n",
       "      <td>25</td>\n",
       "    </tr>\n",
       "    <tr>\n",
       "      <th>s185</th>\n",
       "      <td>34.559143</td>\n",
       "      <td>17</td>\n",
       "    </tr>\n",
       "    <tr>\n",
       "      <th>s710</th>\n",
       "      <td>42.803733</td>\n",
       "      <td>23</td>\n",
       "    </tr>\n",
       "    <tr>\n",
       "      <th>t565</th>\n",
       "      <td>39.328725</td>\n",
       "      <td>17</td>\n",
       "    </tr>\n",
       "    <tr>\n",
       "      <th>u364</th>\n",
       "      <td>39.887495</td>\n",
       "      <td>17</td>\n",
       "    </tr>\n",
       "    <tr>\n",
       "      <th>v923</th>\n",
       "      <td>41.581595</td>\n",
       "      <td>21</td>\n",
       "    </tr>\n",
       "    <tr>\n",
       "      <th>w150</th>\n",
       "      <td>41.384825</td>\n",
       "      <td>23</td>\n",
       "    </tr>\n",
       "    <tr>\n",
       "      <th>w914</th>\n",
       "      <td>41.352452</td>\n",
       "      <td>21</td>\n",
       "    </tr>\n",
       "    <tr>\n",
       "      <th>x401</th>\n",
       "      <td>36.182040</td>\n",
       "      <td>15</td>\n",
       "    </tr>\n",
       "    <tr>\n",
       "      <th>y793</th>\n",
       "      <td>38.506829</td>\n",
       "      <td>17</td>\n",
       "    </tr>\n",
       "  </tbody>\n",
       "</table>\n",
       "</div>"
      ],
      "text/plain": [
       "          Avg Tumor Volume (mm3)  Weight (g)\n",
       "Mouse ID                                    \n",
       "b128                   41.963636          22\n",
       "b742                   40.083699          21\n",
       "f966                   36.505973          17\n",
       "g288                   41.990097          19\n",
       "g316                   44.613344          22\n",
       "i557                   44.805810          24\n",
       "i738                   39.141053          20\n",
       "j119                   44.465236          23\n",
       "j246                   43.216925          21\n",
       "l509                   44.434474          21\n",
       "l897                   42.507261          19\n",
       "m601                   34.847470          17\n",
       "m957                   39.049816          19\n",
       "r157                   45.798970          25\n",
       "r554                   36.509212          17\n",
       "r944                   43.367364          25\n",
       "s185                   34.559143          17\n",
       "s710                   42.803733          23\n",
       "t565                   39.328725          17\n",
       "u364                   39.887495          17\n",
       "v923                   41.581595          21\n",
       "w150                   41.384825          23\n",
       "w914                   41.352452          21\n",
       "x401                   36.182040          15\n",
       "y793                   38.506829          17"
      ]
     },
     "execution_count": 85,
     "metadata": {},
     "output_type": "execute_result"
    }
   ],
   "source": [
    "# Generate a scatter plot of mouse weight versus average tumor volume for the Capomulin regimen\n",
    "#Generate a scatter plot of mouse weight versus average tumor volume for the Capomulin treatment regimen.\n",
    "\n",
    "capdf_new = capdf.groupby(capdf['Mouse ID']).agg({'Tumor Volume (mm3)' : ['mean'],\n",
    "                                              'Weight (g)' : ['first']\n",
    "                                             })   \n",
    "capdf_new.columns = ['Avg Tumor Volume (mm3)', 'Weight (g)']\n",
    "\n",
    "capdf_new\n",
    "\n",
    "x_axis_cap = capdf_new['Weight (g)']\n",
    "y_axis_cap = capdf_new['Avg Tumor Volume (mm3)']\n",
    "\n",
    "capdf_new\n",
    "\n",
    "plt.scatter(x_axis_cap,y_axis_cap)\n",
    "plt.title(\"Mouse weight Vs Avg tumor volume for Capomulin\")\n",
    "plt.xlabel(\"Weight (g)\")\n",
    "plt.ylabel(\"Average Tumor Volume (mm3)\")\n",
    "\n",
    "plt.show()\n",
    "\n",
    "capdf_new"
   ]
  },
  {
   "cell_type": "code",
   "execution_count": 86,
   "metadata": {},
   "outputs": [
    {
     "name": "stdout",
     "output_type": "stream",
     "text": [
      "Correlation between both factors is 0.84\n",
      "(0.8419363424694717, 1.322572243471279e-07)\n"
     ]
    },
    {
     "data": {
      "image/png": "[encoded data removed]",
      "text/plain": [
       "<Figure size 432x288 with 1 Axes>"
      ]
     },
     "metadata": {
      "needs_background": "light"
     },
     "output_type": "display_data"
    }
   ],
   "source": [
    "# Calculate the correlation coefficient and linear regression model for mouse weight and average tumor volume \n",
    "#for the Capomulin regimen\n",
    "\n",
    "correlation = st.pearsonr(capdf_new['Weight (g)'],capdf_new['Avg Tumor Volume (mm3)'])\n",
    "\n",
    "print(f\"Correlation between both factors is {round(correlation[0],2)}\")\n",
    "\n",
    "print(correlation)\n",
    "\n",
    "(slope, intercept, rvalue, pvalue, stderr) = linregress(x_axis_cap, y_axis_cap)\n",
    "regress_values = x_axis_cap * slope + intercept\n",
    "line_eq = \"y = \" + str(round(slope,2)) + \"x + \" + str(round(intercept,2))\n",
    "plt.scatter(x_axis_cap,y_axis_cap)\n",
    "plt.plot(x_axis_cap,regress_values,\"r-\")\n",
    "plt.annotate(line_eq,(20,37),fontsize=15,color=\"red\")\n",
    "\n",
    "plt.title(\"Mouse weight Vs Avg tumor volume for Capomulin\")\n",
    "plt.xlabel(\"Weight (g)\")\n",
    "plt.ylabel(\"Average Tumor Volume (mm3)\")\n",
    "\n",
    "plt.show()\n"
   ]
  },
  {
   "cell_type": "code",
   "execution_count": null,
   "metadata": {},
   "outputs": [],
   "source": [
    "\n"
   ]
  },
  {
   "cell_type": "code",
   "execution_count": null,
   "metadata": {},
   "outputs": [],
   "source": []
  },
  {
   "cell_type": "code",
   "execution_count": null,
   "metadata": {},
   "outputs": [],
   "source": []
  }
 ],
 "metadata": {
  "anaconda-cloud": {},
  "kernelspec": {
   "display_name": "Python [conda env:PythonData] *",
   "language": "python",
   "name": "conda-env-PythonData-py"
  },
  "language_info": {
   "codemirror_mode": {
    "name": "ipython",
    "version": 3
   },
   "file_extension": ".py",
   "mimetype": "text/x-python",
   "name": "python",
   "nbconvert_exporter": "python",
   "pygments_lexer": "ipython3",
   "version": "3.7.6"
  }
 },
 "nbformat": 4,
 "nbformat_minor": 2
}
